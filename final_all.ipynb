{
  "cells": [
    {
      "cell_type": "code",
      "execution_count": 4,
      "metadata": {
        "id": "ZHH0taJ4fQKU"
      },
      "outputs": [],
      "source": [
        "from selenium import webdriver\n",
        "from selenium.webdriver.chrome.options import Options\n",
        "from selenium.webdriver.chrome.service import Service\n",
        "from selenium.webdriver.support import expected_conditions as EC\n",
        "from selenium.webdriver.support.ui import WebDriverWait\n",
        "from selenium.webdriver.common.by import By\n",
        "from fake_useragent import UserAgent\n",
        "import random\n",
        "#import string\n",
        "import time"
      ]
    },
    {
      "cell_type": "code",
      "execution_count": 5,
      "metadata": {
        "id": "7NInGByWfmPv"
      },
      "outputs": [],
      "source": [
        "options = Options() \n",
        "\n",
        "ua = UserAgent()\n",
        "userAgent = ua.random\n",
        "\n",
        "options.add_argument(f'user-agent={userAgent}')\n",
        "options.add_argument('--headless')  # 非本機執行，必須啟動Headless模式\n",
        "options.add_argument('--disable-gpu') # 關閉GPU 避免某些系統或是網頁出錯\n",
        "\n",
        "service = Service()\n",
        "driver = webdriver.Chrome(service=service, options=options)\n",
        "url = 'http://120.105.96.87/register_all.html'\n",
        "driver.get(url)"
      ]
    },
    {
      "cell_type": "code",
      "execution_count": 6,
      "metadata": {
        "id": "wSEl23e9fqWQ"
      },
      "outputs": [],
      "source": [
        "from selenium.webdriver.support.ui import Select\n",
        "\n",
        "myid = driver.find_element(By.NAME, \"id\")\n",
        "myid.clear()\n",
        "myid.send_keys(\"b09090068\") # 請輸入你的學號\n",
        "\n",
        "myemail = driver.find_element(By.NAME, \"email\")\n",
        "myemail.clear()\n",
        "myemail.send_keys(\"b09090068@std.must.edu.tw\") # 請輸入你的email\n",
        "\n",
        "passwd = driver.find_element(By.NAME, \"pwd\")\n",
        "passwd.clear()\n",
        "passwd.send_keys(\"b09090068\")  # 請輸入你要設定的登入密碼\n",
        "\n",
        "sex=driver.find_element(By.ID,\"f\") # 請選擇性別:m(男)、f(女)、s(多元) #單選\n",
        "sex.click()\n",
        "\n",
        "\n",
        "interest=driver.find_element(By.ID,\"tv\") # 請選擇興趣: tv、movie、bike #可複選\n",
        "interest.click()\n",
        "interest1=driver.find_element(By.ID,\"movie\")\n",
        "interest1.click()\n",
        "interest2=driver.find_element(By.ID,\"bike\")\n",
        "interest2.click()\n",
        "\n",
        "county=Select(driver.find_element(By.NAME,\"county\")) # 請選擇居住地: taoyuan(桃園)、hsinchu(新竹縣/市)、miaoli(苗栗)、others(其他) #單選\n",
        "county.select_by_value(\"hsinchu\")\n",
        "\n",
        "\n",
        "driver.get_screenshot_as_file('data5.png') # 註冊畫面\n",
        "mysubmit = WebDriverWait(driver, 5).until(EC.presence_of_element_located((By.NAME, \"submit\")))\n",
        "mysubmit.submit()\n",
        "time.sleep(1)\n",
        "driver.get_screenshot_as_file('data6.png') # 註冊結果畫面\n",
        "driver.close()"
      ]
    }
  ],
  "metadata": {
    "colab": {
      "provenance": []
    },
    "kernelspec": {
      "display_name": "Python 3.10.6 ('selenium-strGPMzh')",
      "language": "python",
      "name": "python3"
    },
    "language_info": {
      "codemirror_mode": {
        "name": "ipython",
        "version": 3
      },
      "file_extension": ".py",
      "mimetype": "text/x-python",
      "name": "python",
      "nbconvert_exporter": "python",
      "pygments_lexer": "ipython3",
      "version": "3.10.6"
    },
    "vscode": {
      "interpreter": {
        "hash": "dafb4caba3e5f89619c69905b80dc803f6207f95843981285f26adcfa043af00"
      }
    }
  },
  "nbformat": 4,
  "nbformat_minor": 0
}
