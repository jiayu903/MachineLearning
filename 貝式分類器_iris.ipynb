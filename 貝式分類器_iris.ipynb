{
  "nbformat": 4,
  "nbformat_minor": 0,
  "metadata": {
    "colab": {
      "provenance": [],
      "authorship_tag": "ABX9TyNtx2pfWQP613kXUtK2jWaO",
      "include_colab_link": true
    },
    "kernelspec": {
      "name": "python3",
      "display_name": "Python 3"
    },
    "language_info": {
      "name": "python"
    }
  },
  "cells": [
    {
      "cell_type": "markdown",
      "metadata": {
        "id": "view-in-github",
        "colab_type": "text"
      },
      "source": [
        "<a href=\"https://colab.research.google.com/github/jiayu903/MachineLearnung/blob/main/%E8%B2%9D%E5%BC%8F%E5%88%86%E9%A1%9E%E5%99%A8_iris.ipynb\" target=\"_parent\"><img src=\"https://colab.research.google.com/assets/colab-badge.svg\" alt=\"Open In Colab\"/></a>"
      ]
    },
    {
      "cell_type": "code",
      "execution_count": null,
      "metadata": {
        "colab": {
          "base_uri": "https://localhost:8080/"
        },
        "id": "AqMwlJBnkLjG",
        "outputId": "2f8320ff-fe2f-43f8-ad4e-9df435541b47"
      },
      "outputs": [
        {
          "output_type": "stream",
          "name": "stdout",
          "text": [
            "訓練資料正確率: 0.9714285714285714\n",
            "測試資料正確率: 0.9333333333333333\n"
          ]
        }
      ],
      "source": [
        "from sklearn.datasets import load_iris\n",
        "from sklearn.model_selection import train_test_split #模型決策\n",
        "from sklearn.naive_bayes import GaussianNB  #分類法\n",
        "\n",
        "#讀入鳶尾花資料\n",
        "iris = load_iris()  \n",
        "iris_data = iris.data\n",
        "iris_label = iris.target\n",
        "\n",
        "#切分訓練與測試資料\n",
        "train_data, test_data, train_label, test_label = train_test_split(iris_data, iris_label, test_size = 0.3)\n",
        "\n",
        "\n",
        "#建立分類器\n",
        "clf = GaussianNB()\n",
        "clf.fit(train_data, train_label)\n",
        "print(\"訓練資料正確率:\",clf.score(train_data,train_label)) # 訓練資料正確率\n",
        "print(\"測試資料正確率:\",clf.score(test_data, test_label)) # 測試資料正確率"
      ]
    }
  ]
}